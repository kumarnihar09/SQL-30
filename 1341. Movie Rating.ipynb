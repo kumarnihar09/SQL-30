{
 "cells": [
  {
   "cell_type": "code",
   "execution_count": 0,
   "metadata": {
    "application/vnd.databricks.v1+cell": {
     "cellMetadata": {
      "byteLimit": 2048000,
      "rowLimit": 10000
     },
     "inputWidgets": {},
     "nuid": "2c99e148-7749-42da-8e8b-1b2a6b5e91b0",
     "showTitle": false,
     "tableResultSettingsMap": {},
     "title": ""
    }
   },
   "outputs": [],
   "source": [
    "from pyspark.sql.functions import *"
   ]
  },
  {
   "cell_type": "code",
   "execution_count": 0,
   "metadata": {
    "application/vnd.databricks.v1+cell": {
     "cellMetadata": {
      "byteLimit": 2048000,
      "rowLimit": 10000
     },
     "inputWidgets": {},
     "nuid": "dd36980c-1403-42ea-b260-fdacd667ba24",
     "showTitle": false,
     "tableResultSettingsMap": {},
     "title": ""
    }
   },
   "outputs": [],
   "source": [
    "from pyspark.sql import SparkSession\n",
    "from pyspark.sql.functions import col, count, avg, to_date, month, year, desc, asc\n",
    "\n",
    "# Initialize Spark session\n",
    "spark = SparkSession.builder.getOrCreate()\n",
    "\n",
    "# Sample data\n",
    "movies_data = [(1, \"Avengers\"), (2, \"Frozen 2\"), (3, \"Joker\")]\n",
    "users_data = [(1, \"Daniel\"), (2, \"Monica\"), (3, \"Maria\"), (4, \"James\")]\n",
    "ratings_data = [\n",
    "    (1, 1, 3, \"2020-01-12\"),\n",
    "    (1, 2, 4, \"2020-02-11\"),\n",
    "    (1, 3, 2, \"2020-02-12\"),\n",
    "    (1, 4, 1, \"2020-01-01\"),\n",
    "    (2, 1, 5, \"2020-02-17\"),\n",
    "    (2, 2, 2, \"2020-02-01\"),\n",
    "    (2, 3, 2, \"2020-03-01\"),\n",
    "    (3, 1, 3, \"2020-02-22\"),\n",
    "    (3, 2, 4, \"2020-02-25\")\n",
    "]\n",
    "\n",
    "# Create DataFrames\n",
    "movies_df = spark.createDataFrame(movies_data, [\"movie_id\", \"title\"])\n",
    "users_df = spark.createDataFrame(users_data, [\"user_id\", \"name\"])\n",
    "ratings_df = spark.createDataFrame(ratings_data, [\"movie_id\", \"user_id\", \"rating\", \"created_at\"])"
   ]
  },
  {
   "cell_type": "code",
   "execution_count": 0,
   "metadata": {
    "application/vnd.databricks.v1+cell": {
     "cellMetadata": {},
     "inputWidgets": {},
     "nuid": "55dfb924-9e4c-4834-b43a-eff29f344bfc",
     "showTitle": false,
     "tableResultSettingsMap": {},
     "title": ""
    }
   },
   "outputs": [],
   "source": [
    "/* Write your T-SQL query statement below */\n",
    "\n",
    "with cte1 as \n",
    "(\n",
    "select u.name, \n",
    "       u.user_id, \n",
    "\t   count(mr.user_id) as count_user\n",
    "from users u\n",
    "inner join movierating mr\n",
    "on u.user_id = mr.user_id\n",
    "group by u.name,u.user_id\n",
    "--order by u.name\n",
    "),\n",
    "cte2 as\n",
    "(\n",
    "SELECT\n",
    "    mr.movie_id,\n",
    "    m.title,\n",
    "    AVG(CAST(mr.rating AS FLOAT)) AS 'average_rating'\n",
    "from movies m\n",
    "inner join movierating mr\n",
    "on m.movie_id = mr.movie_id\n",
    "where mr.created_at like '2020-02%'\n",
    "group by mr.movie_id,m.title\n",
    ")\n",
    "\n",
    "select name as results\n",
    "from (\n",
    "select top 1 name from cte1\n",
    "where count_user = (select max(count_user) from cte1)\n",
    ") a\n",
    "union all\n",
    "select title as results\n",
    "from (\n",
    "select top 1 title from cte2\n",
    "where average_rating = (select max(average_rating) from cte2)\n",
    ") b"
   ]
  },
  {
   "cell_type": "code",
   "execution_count": 0,
   "metadata": {
    "application/vnd.databricks.v1+cell": {
     "cellMetadata": {},
     "inputWidgets": {},
     "nuid": "17de89d1-0347-422c-aab4-5b351cf45512",
     "showTitle": false,
     "tableResultSettingsMap": {},
     "title": ""
    }
   },
   "outputs": [],
   "source": [
    "# Convert created_at to proper date\n",
    "ratings_df = ratings_df.withColumn(\"created_at\", to_date(col(\"created_at\"), \"yyyy-MM-dd\"))\n",
    "\n",
    "# ----------------------------\n",
    "# Part 1: Most Active Rater\n",
    "# ----------------------------\n",
    "most_active_user = ratings_df.groupBy(\"user_id\") \\\n",
    "    .agg(count(\"*\").alias(\"num_ratings\")) \\\n",
    "    .join(users_df, \"user_id\") \\\n",
    "    .orderBy(desc(\"num_ratings\"), asc(\"name\")) \\\n",
    "    .limit(1) \\\n",
    "    .select(col(\"name\").alias(\"results\"))\n",
    "\n",
    "# ----------------------------\n",
    "# Part 2: Top Rated Movie in Feb 2020\n",
    "# ----------------------------\n",
    "ratings_feb2020 = ratings_df.filter((month(\"created_at\") == 2) & (year(\"created_at\") == 2020))\n",
    "\n",
    "top_rated_movie = ratings_feb2020.groupBy(\"movie_id\") \\\n",
    "    .agg(avg(\"rating\").alias(\"avg_rating\")) \\\n",
    "    .join(movies_df, \"movie_id\") \\\n",
    "    .orderBy(desc(\"avg_rating\"), asc(\"title\")) \\\n",
    "    .limit(1) \\\n",
    "    .select(col(\"title\").alias(\"results\"))\n",
    "\n",
    "# ----------------------------\n",
    "# Combine both results\n",
    "# ----------------------------\n",
    "final_result = most_active_user.union(top_rated_movie)\n",
    "\n",
    "# Show the output\n",
    "final_result.show()\n"
   ]
  }
 ],
 "metadata": {
  "application/vnd.databricks.v1+notebook": {
   "computePreferences": null,
   "dashboards": [],
   "environmentMetadata": {
    "base_environment": "",
    "environment_version": "2"
   },
   "inputWidgetPreferences": null,
   "language": "python",
   "notebookMetadata": {
    "pythonIndentUnit": 4
   },
   "notebookName": "1341. Movie Rating",
   "widgets": {}
  },
  "language_info": {
   "name": "python"
  }
 },
 "nbformat": 4,
 "nbformat_minor": 0
}
