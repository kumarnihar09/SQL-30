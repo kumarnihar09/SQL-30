{
 "cells": [
  {
   "cell_type": "code",
   "execution_count": 0,
   "metadata": {
    "application/vnd.databricks.v1+cell": {
     "cellMetadata": {
      "byteLimit": 2048000,
      "rowLimit": 10000
     },
     "inputWidgets": {},
     "nuid": "2c99e148-7749-42da-8e8b-1b2a6b5e91b0",
     "showTitle": false,
     "tableResultSettingsMap": {},
     "title": ""
    }
   },
   "outputs": [],
   "source": [
    "from pyspark.sql.functions import *"
   ]
  },
  {
   "cell_type": "code",
   "execution_count": 0,
   "metadata": {
    "application/vnd.databricks.v1+cell": {
     "cellMetadata": {
      "byteLimit": 2048000,
      "rowLimit": 10000
     },
     "inputWidgets": {},
     "nuid": "dd36980c-1403-42ea-b260-fdacd667ba24",
     "showTitle": false,
     "tableResultSettingsMap": {},
     "title": ""
    }
   },
   "outputs": [],
   "source": [
    "from pyspark.sql import SparkSession\n",
    "from pyspark.sql.types import StructType, StructField, IntegerType, StringType, DateType\n",
    "\n",
    "# Create Spark session\n",
    "spark = SparkSession.builder.appName(\"CreateProductsOrders\").getOrCreate()\n",
    "\n",
    "# ---------------------\n",
    "# Products Table\n",
    "# ---------------------\n",
    "products_data = [\n",
    "    (1, \"Leetcode Solutions\", \"Book\"),\n",
    "    (2, \"Jewels of Stringology\", \"Book\"),\n",
    "    (3, \"HP\", \"Laptop\"),\n",
    "    (4, \"Lenovo\", \"Laptop\"),\n",
    "    (5, \"Leetcode Kit\", \"T-shirt\")\n",
    "]\n",
    "\n",
    "products_schema = StructType([\n",
    "    StructField(\"product_id\", IntegerType(), False),\n",
    "    StructField(\"product_name\", StringType(), False),\n",
    "    StructField(\"product_category\", StringType(), False)\n",
    "])\n",
    "\n",
    "products_df = spark.createDataFrame(data=products_data, schema=products_schema)\n",
    "\n",
    "# ---------------------\n",
    "# Orders Table\n",
    "# ---------------------\n",
    "orders_data = [\n",
    "    (1, \"2020-02-05\", 60),\n",
    "    (1, \"2020-02-10\", 70),\n",
    "    (2, \"2020-01-18\", 30),\n",
    "    (2, \"2020-02-11\", 80),\n",
    "    (3, \"2020-02-17\", 2),\n",
    "    (3, \"2020-02-24\", 3),\n",
    "    (4, \"2020-03-01\", 20),\n",
    "    (4, \"2020-03-04\", 30),\n",
    "    (4, \"2020-03-04\", 60),\n",
    "    (5, \"2020-02-25\", 50),\n",
    "    (5, \"2020-02-27\", 50),\n",
    "    (5, \"2020-03-01\", 50)\n",
    "]\n",
    "\n",
    "orders_schema = StructType([\n",
    "    StructField(\"product_id\", IntegerType(), False),\n",
    "    StructField(\"order_date\", StringType(), False),  # Keep as string if parsing not needed\n",
    "    StructField(\"unit\", IntegerType(), False)\n",
    "])\n",
    "\n",
    "orders_df = spark.createDataFrame(data=orders_data, schema=orders_schema)\n",
    "\n",
    "# Show both tables\n",
    "print(\"📘 Products Table:\")\n",
    "products_df.show(truncate=False)\n",
    "\n",
    "print(\"🧾 Orders Table:\")\n",
    "orders_df.show(truncate=False)\n"
   ]
  },
  {
   "cell_type": "code",
   "execution_count": 0,
   "metadata": {
    "application/vnd.databricks.v1+cell": {
     "cellMetadata": {},
     "inputWidgets": {},
     "nuid": "c64f81ae-813b-4b9e-b240-72975ce5788c",
     "showTitle": false,
     "tableResultSettingsMap": {},
     "title": ""
    }
   },
   "outputs": [],
   "source": [
    "SELECT p.product_name, SUM(o.unit) AS unit\n",
    "FROM products p\n",
    "JOIN orders o ON p.product_id = o.product_id\n",
    "WHERE o.order_date BETWEEN '2020-02-01' AND '2020-02-29'\n",
    "GROUP BY p.product_name\n",
    "HAVING SUM(o.unit) >= 100;\n"
   ]
  },
  {
   "cell_type": "code",
   "execution_count": 0,
   "metadata": {
    "application/vnd.databricks.v1+cell": {
     "cellMetadata": {
      "byteLimit": 2048000,
      "rowLimit": 10000
     },
     "inputWidgets": {},
     "nuid": "b0935f09-e8dc-4c15-9654-7d24701a80c4",
     "showTitle": false,
     "tableResultSettingsMap": {},
     "title": ""
    }
   },
   "outputs": [],
   "source": [
    "result_df = products_df.join(orders_df, on=\"product_id\", how=\"inner\").filter((orders_df.order_date >= \"2020-02-01\") & (orders_df.order_date <= \"2020-02-29\")).groupBy(\"product_name\").agg(sum(\"unit\").alias(\"unit\")).filter(col(\"unit\") >= 100)\n",
    "\n",
    "display(result_df)"
   ]
  },
  {
   "cell_type": "code",
   "execution_count": 0,
   "metadata": {
    "application/vnd.databricks.v1+cell": {
     "cellMetadata": {
      "byteLimit": 2048000,
      "rowLimit": 10000
     },
     "inputWidgets": {},
     "nuid": "728c562d-be1d-4124-9298-51dc64bdd3ab",
     "showTitle": false,
     "tableResultSettingsMap": {},
     "title": ""
    }
   },
   "outputs": [],
   "source": [
    "result_df = distinct_activities_df.groupBy(\"sell_date\").agg(count(\"product\").alias(\"num_sold\"),concat_ws(\",\", array_sort(collect_set(\"product\"))).alias(\"products\")).orderBy(\"sell_date\")\n",
    "display(result_df)"
   ]
  }
 ],
 "metadata": {
  "application/vnd.databricks.v1+notebook": {
   "computePreferences": null,
   "dashboards": [],
   "environmentMetadata": {
    "base_environment": "",
    "environment_version": "2"
   },
   "inputWidgetPreferences": null,
   "language": "python",
   "notebookMetadata": {
    "pythonIndentUnit": 4
   },
   "notebookName": "1327. List the Products Ordered in a Period",
   "widgets": {}
  },
  "language_info": {
   "name": "python"
  }
 },
 "nbformat": 4,
 "nbformat_minor": 0
}
