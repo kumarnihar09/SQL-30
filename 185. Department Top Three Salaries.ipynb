{
 "cells": [
  {
   "cell_type": "code",
   "execution_count": 0,
   "metadata": {
    "application/vnd.databricks.v1+cell": {
     "cellMetadata": {
      "byteLimit": 2048000,
      "rowLimit": 10000
     },
     "inputWidgets": {},
     "nuid": "2c99e148-7749-42da-8e8b-1b2a6b5e91b0",
     "showTitle": false,
     "tableResultSettingsMap": {},
     "title": ""
    }
   },
   "outputs": [],
   "source": [
    "from pyspark.sql.functions import *\n",
    "from pyspark.sql.window import Window"
   ]
  },
  {
   "cell_type": "code",
   "execution_count": 0,
   "metadata": {
    "application/vnd.databricks.v1+cell": {
     "cellMetadata": {
      "byteLimit": 2048000,
      "rowLimit": 10000
     },
     "inputWidgets": {},
     "nuid": "dd36980c-1403-42ea-b260-fdacd667ba24",
     "showTitle": false,
     "tableResultSettingsMap": {},
     "title": ""
    }
   },
   "outputs": [],
   "source": [
    "from pyspark.sql import SparkSession\n",
    "from pyspark.sql.types import StructType, StructField, IntegerType, StringType\n",
    "\n",
    "# Start Spark session\n",
    "spark = SparkSession.builder.appName(\"DepartmentEmployee\").getOrCreate()\n",
    "\n",
    "# Define Department schema and data\n",
    "dept_schema = StructType([\n",
    "    StructField(\"id\", IntegerType(), True),\n",
    "    StructField(\"name\", StringType(), True)\n",
    "])\n",
    "\n",
    "dept_data = [\n",
    "    (1, 'IT'),\n",
    "    (2, 'Sales')\n",
    "]\n",
    "\n",
    "dept_df = spark.createDataFrame(dept_data, dept_schema)\n",
    "\n",
    "# Define Employee schema and data\n",
    "emp_schema = StructType([\n",
    "    StructField(\"id\", IntegerType(), True),\n",
    "    StructField(\"name\", StringType(), True),\n",
    "    StructField(\"salary\", IntegerType(), True),\n",
    "    StructField(\"departmentId\", IntegerType(), True)\n",
    "])\n",
    "\n",
    "emp_data = [\n",
    "    (1, 'Joe', 85000, 1),\n",
    "    (2, 'Henry', 80000, 2),\n",
    "    (3, 'Sam', 60000, 2),\n",
    "    (4, 'Max', 90000, 1),\n",
    "    (5, 'Janet', 69000, 1),\n",
    "    (6, 'Randy', 85000, 1),\n",
    "    (7, 'Will', 70000, 1)\n",
    "]\n",
    "\n",
    "emp_df = spark.createDataFrame(emp_data, emp_schema)\n",
    "\n",
    "# Show both DataFrames\n",
    "print(\"Department Table:\")\n",
    "dept_df.show()\n",
    "\n",
    "print(\"Employee Table:\")\n",
    "emp_df.show()\n"
   ]
  },
  {
   "cell_type": "code",
   "execution_count": 0,
   "metadata": {
    "application/vnd.databricks.v1+cell": {
     "cellMetadata": {},
     "inputWidgets": {},
     "nuid": "c64f81ae-813b-4b9e-b240-72975ce5788c",
     "showTitle": false,
     "tableResultSettingsMap": {},
     "title": ""
    }
   },
   "outputs": [],
   "source": [
    "/* Write your T-SQL query statement below */\n",
    "with cte as (\n",
    "select name,salary,departmentid, dense_rank() over(partition by departmentId order by salary desc) as rnk\n",
    "from employee\n",
    ")\n",
    "select d.name as department, cte.name as employee, salary from cte \n",
    "inner join department d\n",
    "on cte.departmentid = d.id\n",
    "where rnk <=3\n"
   ]
  },
  {
   "cell_type": "code",
   "execution_count": 0,
   "metadata": {
    "application/vnd.databricks.v1+cell": {
     "cellMetadata": {
      "byteLimit": 2048000,
      "rowLimit": 10000
     },
     "inputWidgets": {},
     "nuid": "b0935f09-e8dc-4c15-9654-7d24701a80c4",
     "showTitle": false,
     "tableResultSettingsMap": {},
     "title": ""
    }
   },
   "outputs": [],
   "source": [
    "w1 = Window.partitionBy('departmentId').orderBy(col('salary').desc())\n",
    "cte_emp_df = emp_df.withColumn('rnk', dense_rank().over(w1))"
   ]
  },
  {
   "cell_type": "code",
   "execution_count": 0,
   "metadata": {
    "application/vnd.databricks.v1+cell": {
     "cellMetadata": {
      "byteLimit": 2048000,
      "rowLimit": 10000
     },
     "inputWidgets": {},
     "nuid": "54e23844-ef3e-4ad6-a50e-da85f58197a8",
     "showTitle": false,
     "tableResultSettingsMap": {},
     "title": ""
    }
   },
   "outputs": [],
   "source": [
    "result_df = cte_emp_df.join(dept_df, on=cte_emp_df.departmentId==dept_df.id, how='inner') \\\n",
    "    .filter('rnk <=3') \\\n",
    "        .select(dept_df.name.alias('department'), cte_emp_df.name.alias('employee'), 'salary')\n",
    "\n",
    "result_df.display()"
   ]
  }
 ],
 "metadata": {
  "application/vnd.databricks.v1+notebook": {
   "computePreferences": null,
   "dashboards": [],
   "environmentMetadata": {
    "base_environment": "",
    "environment_version": "2"
   },
   "inputWidgetPreferences": null,
   "language": "python",
   "notebookMetadata": {
    "pythonIndentUnit": 4
   },
   "notebookName": "185. Department Top Three Salaries",
   "widgets": {}
  },
  "language_info": {
   "name": "python"
  }
 },
 "nbformat": 4,
 "nbformat_minor": 0
}
