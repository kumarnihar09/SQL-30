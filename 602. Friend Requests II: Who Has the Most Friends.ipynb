{
 "cells": [
  {
   "cell_type": "code",
   "execution_count": 0,
   "metadata": {
    "application/vnd.databricks.v1+cell": {
     "cellMetadata": {
      "byteLimit": 2048000,
      "rowLimit": 10000
     },
     "inputWidgets": {},
     "nuid": "2c99e148-7749-42da-8e8b-1b2a6b5e91b0",
     "showTitle": false,
     "tableResultSettingsMap": {},
     "title": ""
    }
   },
   "outputs": [],
   "source": [
    "from pyspark.sql.functions import *"
   ]
  },
  {
   "cell_type": "code",
   "execution_count": 0,
   "metadata": {
    "application/vnd.databricks.v1+cell": {
     "cellMetadata": {
      "byteLimit": 2048000,
      "rowLimit": 10000
     },
     "inputWidgets": {},
     "nuid": "dd36980c-1403-42ea-b260-fdacd667ba24",
     "showTitle": false,
     "tableResultSettingsMap": {},
     "title": ""
    }
   },
   "outputs": [],
   "source": [
    "from pyspark.sql import SparkSession\n",
    "from pyspark.sql.types import StructType, StructField, IntegerType, StringType\n",
    "from pyspark.sql.functions import col\n",
    "\n",
    "# Initialize Spark session\n",
    "spark = SparkSession.builder.getOrCreate()\n",
    "\n",
    "# Define schema\n",
    "schema = StructType([\n",
    "    StructField(\"requester_id\", IntegerType(), True),\n",
    "    StructField(\"accepter_id\", IntegerType(), True),\n",
    "    StructField(\"accept_date\", StringType(), True)  # You can also use DateType if needed\n",
    "])\n",
    "\n",
    "# Input data\n",
    "data = [\n",
    "    (1, 2, \"2016/06/03\"),\n",
    "    (1, 3, \"2016/06/08\"),\n",
    "    (2, 3, \"2016/06/08\"),\n",
    "    (3, 4, \"2016/06/09\")\n",
    "]\n",
    "\n",
    "# Create DataFrame\n",
    "df = spark.createDataFrame(data, schema)\n",
    "\n",
    "# Show DataFrame\n",
    "df.show()\n"
   ]
  },
  {
   "cell_type": "code",
   "execution_count": 0,
   "metadata": {
    "application/vnd.databricks.v1+cell": {
     "cellMetadata": {},
     "inputWidgets": {},
     "nuid": "c64f81ae-813b-4b9e-b240-72975ce5788c",
     "showTitle": false,
     "tableResultSettingsMap": {},
     "title": ""
    }
   },
   "outputs": [],
   "source": [
    "# /* Write your T-SQL query statement below */\n",
    "\n",
    "with all_cte as (\n",
    "select accepter_id as id\n",
    "from requestaccepted \n",
    "union all\n",
    "select requester_id as id\n",
    "from requestaccepted \n",
    ")\n",
    "select TOP 1 id, count(*) as num \n",
    "from all_cte\n",
    "group by id\n",
    "order by count(*) desc\n",
    "\n",
    "\n"
   ]
  },
  {
   "cell_type": "code",
   "execution_count": 0,
   "metadata": {
    "application/vnd.databricks.v1+cell": {
     "cellMetadata": {
      "byteLimit": 2048000,
      "rowLimit": 10000
     },
     "inputWidgets": {},
     "nuid": "b0935f09-e8dc-4c15-9654-7d24701a80c4",
     "showTitle": false,
     "tableResultSettingsMap": {},
     "title": ""
    }
   },
   "outputs": [],
   "source": [
    "accepter_df = df.select(col('accepter_id').alias('id'))\n",
    "requester_df = df.select(col('requester_id').alias('id'))\n",
    "df_all = accepter_df.unionAll(requester_df)\n",
    "id_count = df_all.groupBy('id').agg(count('*').alias('num'))\n",
    "top_user = id_count.orderBy(col('num').desc()).limit(1)\n",
    "top_user.show()"
   ]
  }
 ],
 "metadata": {
  "application/vnd.databricks.v1+notebook": {
   "computePreferences": null,
   "dashboards": [],
   "environmentMetadata": {
    "base_environment": "",
    "environment_version": "2"
   },
   "inputWidgetPreferences": null,
   "language": "python",
   "notebookMetadata": {
    "pythonIndentUnit": 4
   },
   "notebookName": "602. Friend Requests II: Who Has the Most Friends",
   "widgets": {}
  },
  "language_info": {
   "name": "python"
  }
 },
 "nbformat": 4,
 "nbformat_minor": 0
}
